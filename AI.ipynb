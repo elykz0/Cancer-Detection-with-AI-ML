{
  "nbformat": 4,
  "nbformat_minor": 0,
  "metadata": {
    "colab": {
      "provenance": [],
      "authorship_tag": "ABX9TyM4+QApWwyOrOdHwFVt9uFh",
      "include_colab_link": true
    },
    "kernelspec": {
      "name": "python3",
      "display_name": "Python 3"
    },
    "language_info": {
      "name": "python"
    }
  },
  "cells": [
    {
      "cell_type": "markdown",
      "metadata": {
        "id": "view-in-github",
        "colab_type": "text"
      },
      "source": [
        "<a href=\"https://colab.research.google.com/github/elykz0/Cancer-Detection-with-AI-ML/blob/main/AI.ipynb\" target=\"_parent\"><img src=\"https://colab.research.google.com/assets/colab-badge.svg\" alt=\"Open In Colab\"/></a>"
      ]
    },
    {
      "cell_type": "code",
      "execution_count": null,
      "metadata": {
        "id": "2_PgVjHhPg2Q"
      },
      "outputs": [],
      "source": [
        "import pandas as pd\n",
        "\n",
        "#This looks through and reads the dataset\n",
        "dataset = pd.read_csv('cancer.csv')"
      ]
    },
    {
      "cell_type": "code",
      "source": [
        "# Make the x attribute equal to everything in the dataset execept for the column we are dropping\n",
        "x = dataset.drop(columns=[\"diagnosis(1=m, 0=b)\"])"
      ],
      "metadata": {
        "id": "TgYIBhzbT4-R"
      },
      "execution_count": null,
      "outputs": []
    },
    {
      "cell_type": "code",
      "source": [
        "# Makes the y attribute equal to the column we assign it to\n",
        "y = dataset[\"diagnosis(1=m, 0=b)\"]"
      ],
      "metadata": {
        "id": "KJWUgAR0VtHS"
      },
      "execution_count": null,
      "outputs": []
    },
    {
      "cell_type": "code",
      "source": [
        "# Set a part of the data to the side to be tested later\n",
        "from sklearn.model_selection import train_test_split\n",
        "\n",
        "x_train, x_test, y_train, y_test = train_test_split(x, y, test_size = 0.2)"
      ],
      "metadata": {
        "id": "E8kwcCjMWGow"
      },
      "execution_count": null,
      "outputs": []
    },
    {
      "cell_type": "code",
      "source": [
        "# importing tensorflow keras to be model for neural network\n",
        "import tensorflow as tf\n",
        "\n",
        "model = tf.keras.models.Sequential()\n"
      ],
      "metadata": {
        "id": "g9GG7m9BX-pv"
      },
      "execution_count": null,
      "outputs": []
    },
    {
      "cell_type": "code",
      "source": [
        "# Add input, hidden, and output layers and amount of neurons\n",
        "# Define inputs\n",
        "# Create an acitivation function (Sigmoid plots all values between 0 and 1)\n",
        "model.add(tf.keras.layers.Dense(256, input_shape = x_train.shape[1:], activation = 'sigmoid'))\n",
        "model.add(tf.keras.layers.Dense(256, activation ='sigmoid'))\n",
        "model.add(tf.keras.layers.Dense(1, activation = 'sigmoid'))"
      ],
      "metadata": {
        "id": "pe5CThFJYlOX"
      },
      "execution_count": null,
      "outputs": []
    },
    {
      "cell_type": "code",
      "source": [
        "# Compiling the model\n",
        "# Optimizes the weights to fit data\n",
        "# Loss Function\n",
        "# Metrics\n",
        "model.compile(optimizer = 'adam', loss = 'binary_crossentropy', metrics=['accuracy'])"
      ],
      "metadata": {
        "id": "Q0Mo6VZnYreX"
      },
      "execution_count": null,
      "outputs": []
    },
    {
      "cell_type": "code",
      "source": [
        "# fits the data\n",
        "# epoch is how many iterations the algorithm does over the data\n",
        "model.fit(x_train, y_train, epochs=1000)"
      ],
      "metadata": {
        "id": "mlIK55Z8cNet"
      },
      "execution_count": null,
      "outputs": []
    },
    {
      "cell_type": "code",
      "source": [
        "# Evaluates model accuracy with test set\n",
        "model.evaluate(x_test, y_test)"
      ],
      "metadata": {
        "id": "l_T0H5HZc_Zn"
      },
      "execution_count": null,
      "outputs": []
    },
    {
      "cell_type": "code",
      "source": [],
      "metadata": {
        "id": "jTym24kefJT7"
      },
      "execution_count": null,
      "outputs": []
    }
  ]
}